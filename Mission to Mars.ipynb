{
 "cells": [
  {
   "cell_type": "code",
   "execution_count": 1,
   "metadata": {},
   "outputs": [],
   "source": [
    "# !pip install bs4 --user"
   ]
  },
  {
   "cell_type": "code",
   "execution_count": 2,
   "metadata": {},
   "outputs": [],
   "source": [
    "# Import dependencies\n",
    "import pandas as pd\n",
    "import pymongo\n",
    "import requests\n",
    "from splinter import Browser\n",
    "from bs4 import BeautifulSoup\n",
    "from webdriver_manager.chrome import ChromeDriverManager"
   ]
  },
  {
   "cell_type": "code",
   "execution_count": 3,
   "metadata": {},
   "outputs": [
    {
     "name": "stderr",
     "output_type": "stream",
     "text": [
      "[WDM] - Current google-chrome version is 87.0.4280\n",
      "[WDM] - Get LATEST driver version for 87.0.4280\n",
      "[WDM] - Driver [C:\\Users\\Regina\\.wdm\\drivers\\chromedriver\\win32\\87.0.4280.88\\chromedriver.exe] found in cache\n"
     ]
    },
    {
     "name": "stdout",
     "output_type": "stream",
     "text": [
      " \n"
     ]
    }
   ],
   "source": [
    "# Configure ChromeDriver\n",
    "executable_path = {'executable_path': ChromeDriverManager().install()}\n",
    "browser = Browser('chrome', **executable_path)"
   ]
  },
  {
   "cell_type": "markdown",
   "metadata": {},
   "source": [
    "# NASA Mars News"
   ]
  },
  {
   "cell_type": "code",
   "execution_count": 4,
   "metadata": {},
   "outputs": [],
   "source": [
    "def mars_news():\n",
    "    url = 'https://mars.nasa.gov/news/'\n",
    "    browser.visit(url)\n",
    "\n",
    "    html = browser.html\n",
    "    news_soup = BeautifulSoup(html, 'html.parser')\n",
    "\n",
    "    article_container = news_soup.find('ul', class_='item_list')\n",
    "\n",
    "    headline_date = article_container.find('div', class_='list_date').text\n",
    "    news_title = article_container.find('div', class_='content_title').find('a').text\n",
    "    news_p = article_container.find('div', class_='article_teaser_body').text\n",
    "\n",
    "    return news_title, news_p"
   ]
  },
  {
   "cell_type": "markdown",
   "metadata": {},
   "source": [
    "# JPL Mars Space Images - Featured Image\n",
    "\n",
    "\n"
   ]
  },
  {
   "cell_type": "code",
   "execution_count": 5,
   "metadata": {},
   "outputs": [],
   "source": [
    "def featured_image():\n",
    "    base_url = 'https://www.jpl.nasa.gov'\n",
    "\n",
    "    url = 'https://www.jpl.nasa.gov/spaceimages/?search=&category=Mars'\n",
    "    browser.visit(url)\n",
    "\n",
    "    html = browser.html\n",
    "    img_soup = BeautifulSoup(html, 'html.parser')\n",
    "\n",
    "    img_elem = img_soup.find('h1', 'media_feature_title').text.strip()\n",
    "        \n",
    "    img_elem = img_soup.find('article', class_='carousel_item')['style']\n",
    "    img_rel_url = img_elem.replace(\"background-image: url('\", '')\n",
    "    img_rel_url = img_rel_url.replace(\"');\", '')\n",
    "    img_rel_url = f'https://www.jpl.nasa.gov{img_rel_url}'\n",
    "    featured_image_url = img_rel_url\n",
    "       \n",
    "    return featured_image_url"
   ]
  },
  {
   "cell_type": "markdown",
   "metadata": {},
   "source": [
    "# Mars Facts"
   ]
  },
  {
   "cell_type": "code",
   "execution_count": 6,
   "metadata": {},
   "outputs": [],
   "source": [
    "def mars_facts():\n",
    "    url = 'https://space-facts.com/mars/'\n",
    "    browser.visit(url)\n",
    "\n",
    "    mars_facts_df = pd.read_html(url)\n",
    "    mars_facts_df = mars_facts_df[0]\n",
    "    mars_facts_df.columns = ['Description', 'Mars']\n",
    "    mars_facts_df\n",
    "\n",
    "    mars_facts_html = mars_facts_df.to_html(classes='table table-striped')\n",
    "    \n",
    "    return mars_facts_html"
   ]
  },
  {
   "cell_type": "code",
   "execution_count": 7,
   "metadata": {},
   "outputs": [],
   "source": [
    "# if you wanted to pull the HTML table directly from the page\n",
    "# w/o Pandas, then you can. The HTML would, however, contain\n",
    "# the formatting from the original web developer\n",
    "\n",
    "html = browser.html\n",
    "facts_soup = BeautifulSoup(html, 'html.parser')\n",
    "facts_soup.find(id='tablepress-p-mars')"
   ]
  },
  {
   "cell_type": "markdown",
   "metadata": {},
   "source": [
    "# Mars Hemispheres\n",
    "\n"
   ]
  },
  {
   "cell_type": "code",
   "execution_count": 8,
   "metadata": {},
   "outputs": [
    {
     "data": {
      "text/plain": [
       "[{'title': 'Cerberus Hemisphere Enhanced',\n",
       "  'img_url': 'https://astrogeology.usgs.gov/cache/images/f5e372a36edfa389625da6d0cc25d905_cerberus_enhanced.tif_full.jpg'},\n",
       " {'title': 'Schiaparelli Hemisphere Enhanced',\n",
       "  'img_url': 'https://astrogeology.usgs.gov/cache/images/3778f7b43bbbc89d6e3cfabb3613ba93_schiaparelli_enhanced.tif_full.jpg'},\n",
       " {'title': 'Syrtis Major Hemisphere Enhanced',\n",
       "  'img_url': 'https://astrogeology.usgs.gov/cache/images/555e6403a6ddd7ba16ddb0e471cadcf7_syrtis_major_enhanced.tif_full.jpg'},\n",
       " {'title': 'Valles Marineris Hemisphere Enhanced',\n",
       "  'img_url': 'https://astrogeology.usgs.gov/cache/images/b3c7c6c9138f57b4756be9b9c43e3a48_valles_marineris_enhanced.tif_full.jpg'}]"
      ]
     },
     "execution_count": 8,
     "metadata": {},
     "output_type": "execute_result"
    }
   ],
   "source": [
    "def mars_hemispheres():\n",
    "\n",
    "    # Initiate empty list of dictionaries (no dictionaries yet present)\n",
    "    global hemisphere_image_urls\n",
    "    hemisphere_image_urls = []\n",
    "    \n",
    "    # URL of page to be scraped and Configure Splinter\n",
    "    # URL = universal resource locator (FYI)\n",
    "    url = 'https://astrogeology.usgs.gov/search/results?q=hemisphere+enhanced&k1=target&v1=Mars'\n",
    "    browser.visit(url)\n",
    "\n",
    "    # Capture HTML from URL\n",
    "    html = browser.html\n",
    "\n",
    "    # Get list of hemispheres \n",
    "    links = browser.find_by_css(\"a.product-item h3\")\n",
    "\n",
    "    # Traverse Splinter links\n",
    "    for i in range(len(links)):\n",
    "\n",
    "        #Find the elements on each loop \n",
    "        browser.find_by_css(\"a.product-item h3\")[i].click()\n",
    "\n",
    "        # Capture HTML from second URL (linked page)\n",
    "        html = browser.html\n",
    "\n",
    "        # Parse HTML from second URL (linked page) with BeautifulSoup\n",
    "        mars_hemispheres_image_soup = BeautifulSoup(html, 'html.parser')\n",
    "\n",
    "        # Use BeautifulSoup to zero in on image_title\n",
    "        mars_hemispheres_image_title = mars_hemispheres_image_soup.find('h2', class_='title').text\n",
    "\n",
    "        # Use BeautifulSoup to zero in on relative URL for wide_image (full image)\n",
    "        mars_hemispheres_image_url = mars_hemispheres_image_soup.find('img', class_='wide-image')['src']\n",
    "\n",
    "        # Augment relative URL to create full URL for wide_image (full image)\n",
    "        mars_hemispheres_image_url = 'https://astrogeology.usgs.gov' + mars_hemispheres_image_url\n",
    "\n",
    "        # Initiate empty dictionary\n",
    "        hemisphere_dict = {}\n",
    "\n",
    "        # Populate dictionary with results\n",
    "        hemisphere_dict = {\"title\": mars_hemispheres_image_title, \"img_url\": mars_hemispheres_image_url}\n",
    "\n",
    "        # Append dictionary to list of dictionaries\n",
    "        hemisphere_image_urls.append(hemisphere_dict)\n",
    "\n",
    "        # Use Splinter to go back to prior web page\n",
    "        browser.back()\n",
    "        \n",
    "    return hemisphere_image_urls\n",
    "\n",
    "mars_hemispheres()"
   ]
  },
  {
   "cell_type": "code",
   "execution_count": 9,
   "metadata": {},
   "outputs": [],
   "source": [
    "def scrape_all():\n",
    "\n",
    "    # Populate variables from the functions\n",
    "    news_title, news_p = mars_news()\n",
    "    featured_img_url = featured_image()\n",
    "    mars_facts_html = mars_facts()\n",
    "    \n",
    "\n",
    "    # Assemble the document to insert into the database\n",
    "    nasa_document = {\n",
    "        'news_title': news_title,\n",
    "        'news_paragraph': news_p,\n",
    "        'featured_img_url': featured_img_url,\n",
    "        'mars_facts_html': mars_facts_html\n",
    "        \n",
    "    }\n",
    "\n",
    "    return nasa_document"
   ]
  },
  {
   "cell_type": "markdown",
   "metadata": {},
   "source": [
    "# Create dataframe out of hemispheres"
   ]
  },
  {
   "cell_type": "code",
   "execution_count": 10,
   "metadata": {},
   "outputs": [
    {
     "data": {
      "text/html": [
       "<div>\n",
       "<style scoped>\n",
       "    .dataframe tbody tr th:only-of-type {\n",
       "        vertical-align: middle;\n",
       "    }\n",
       "\n",
       "    .dataframe tbody tr th {\n",
       "        vertical-align: top;\n",
       "    }\n",
       "\n",
       "    .dataframe thead th {\n",
       "        text-align: right;\n",
       "    }\n",
       "</style>\n",
       "<table border=\"1\" class=\"dataframe\">\n",
       "  <thead>\n",
       "    <tr style=\"text-align: right;\">\n",
       "      <th></th>\n",
       "      <th>mars_hemispheres_img_url</th>\n",
       "    </tr>\n",
       "    <tr>\n",
       "      <th>mars_hemispheres_title</th>\n",
       "      <th></th>\n",
       "    </tr>\n",
       "  </thead>\n",
       "  <tbody>\n",
       "    <tr>\n",
       "      <th>Cerberus Hemisphere Enhanced</th>\n",
       "      <td>https://astrogeology.usgs.gov/cache/images/f5e...</td>\n",
       "    </tr>\n",
       "    <tr>\n",
       "      <th>Schiaparelli Hemisphere Enhanced</th>\n",
       "      <td>https://astrogeology.usgs.gov/cache/images/377...</td>\n",
       "    </tr>\n",
       "    <tr>\n",
       "      <th>Syrtis Major Hemisphere Enhanced</th>\n",
       "      <td>https://astrogeology.usgs.gov/cache/images/555...</td>\n",
       "    </tr>\n",
       "    <tr>\n",
       "      <th>Valles Marineris Hemisphere Enhanced</th>\n",
       "      <td>https://astrogeology.usgs.gov/cache/images/b3c...</td>\n",
       "    </tr>\n",
       "  </tbody>\n",
       "</table>\n",
       "</div>"
      ],
      "text/plain": [
       "                                                               mars_hemispheres_img_url\n",
       "mars_hemispheres_title                                                                 \n",
       "Cerberus Hemisphere Enhanced          https://astrogeology.usgs.gov/cache/images/f5e...\n",
       "Schiaparelli Hemisphere Enhanced      https://astrogeology.usgs.gov/cache/images/377...\n",
       "Syrtis Major Hemisphere Enhanced      https://astrogeology.usgs.gov/cache/images/555...\n",
       "Valles Marineris Hemisphere Enhanced  https://astrogeology.usgs.gov/cache/images/b3c..."
      ]
     },
     "execution_count": 10,
     "metadata": {},
     "output_type": "execute_result"
    }
   ],
   "source": [
    "mars_hemispheres_df = pd.DataFrame(hemisphere_image_urls)\n",
    "mars_hemispheres_df = mars_hemispheres_df.rename(columns={\"title\": \"mars_hemispheres_title\", \n",
    "                                                          \"img_url\": \"mars_hemispheres_img_url\"})\n",
    "mars_hemispheres_df.set_index(\"mars_hemispheres_title\", inplace=True)\n",
    "mars_hemispheres_df"
   ]
  },
  {
   "cell_type": "markdown",
   "metadata": {},
   "source": [
    "# Insert into Mongo DB"
   ]
  },
  {
   "cell_type": "code",
   "execution_count": 11,
   "metadata": {},
   "outputs": [
    {
     "data": {
      "text/plain": [
       "<pymongo.results.UpdateResult at 0x1d73f2b4480>"
      ]
     },
     "execution_count": 11,
     "metadata": {},
     "output_type": "execute_result"
    }
   ],
   "source": [
    "# Connect to MongoDB\n",
    "conn = 'mongodb://localhost:27017'\n",
    "client = pymongo.MongoClient(conn)\n",
    "\n",
    "# Connect to mars_app database\n",
    "db = client.mars_app\n",
    "\n",
    "# Connect to mars collection\n",
    "mars = db.mars\n",
    "\n",
    "# Gather document to insert\n",
    "data_document = scrape_all()\n",
    "\n",
    "# Insert into the mars collection\n",
    "# mars.insert_one(data_document)\n",
    "\n",
    "# Upsert into the mars collection (preferred to avoid duplicates)\n",
    "mars.update_one({}, {'$set': data_document}, upsert=True)"
   ]
  },
  {
   "cell_type": "code",
   "execution_count": 12,
   "metadata": {},
   "outputs": [
    {
     "data": {
      "text/plain": [
       "<pymongo.results.UpdateResult at 0x1d73f1b2400>"
      ]
     },
     "execution_count": 12,
     "metadata": {},
     "output_type": "execute_result"
    }
   ],
   "source": [
    "# Convert mars_hemispheres_df DataFrame into dictionary called mars_hemispheres_dict, \n",
    "# which is then inserted into mars collection of mars_app MongoDB database\n",
    "# Importantly, we use UPSERT method, which updates existing documents and adds documents if they don't exist\n",
    "mars_hemispheres_dict = mars_hemispheres_df.to_dict()\n",
    "mars.update_one({}, {'$set': mars_hemispheres_dict}, upsert=True)"
   ]
  },
  {
   "cell_type": "code",
   "execution_count": null,
   "metadata": {},
   "outputs": [],
   "source": []
  }
 ],
 "metadata": {
  "kernelspec": {
   "display_name": "Python 3",
   "language": "python",
   "name": "python3"
  },
  "language_info": {
   "codemirror_mode": {
    "name": "ipython",
    "version": 3
   },
   "file_extension": ".py",
   "mimetype": "text/x-python",
   "name": "python",
   "nbconvert_exporter": "python",
   "pygments_lexer": "ipython3",
   "version": "3.8.3"
  }
 },
 "nbformat": 4,
 "nbformat_minor": 4
}
